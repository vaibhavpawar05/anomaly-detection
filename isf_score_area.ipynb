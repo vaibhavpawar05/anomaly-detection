{
 "cells": [
  {
   "cell_type": "code",
   "execution_count": 1,
   "metadata": {
    "collapsed": false
   },
   "outputs": [],
   "source": [
    "import warnings\n",
    "\n",
    "warnings.simplefilter(action='ignore', category=FutureWarning)\n",
    "\n",
    "import numpy as np\n",
    "import pandas as pd\n",
    "\n",
    "import pathlib\n",
    "\n",
    "from sklearn.model_selection import ParameterGrid\n",
    "from sklearn.metrics import auc, roc_auc_score\n",
    "from sklearn.utils import check_random_state\n",
    "from joblib import Parallel, delayed\n",
    "\n",
    "from sklearn.ensemble import IsolationForest\n",
    "\n",
    "base_dir = pathlib.Path('/Users/vaibhav/MiscProjects/anomaly-detection')"
   ]
  },
  {
   "cell_type": "code",
   "execution_count": 4,
   "metadata": {
    "collapsed": true
   },
   "outputs": [],
   "source": [
    "import matplotlib\n",
    "import matplotlib.pyplot as plt\n",
    "%matplotlib inline"
   ]
  },
  {
   "cell_type": "code",
   "execution_count": 20,
   "metadata": {
    "collapsed": true
   },
   "outputs": [],
   "source": [
    "df = pd.read_csv(base_dir/'datasets/musk.csv')\n",
    "\n",
    "df_n = df.loc[df['class'] == 0]\n",
    "df_o = df.loc[df['class'] == 1]\n",
    "\n",
    "df_o_vals = df_o.values\n",
    "\n",
    "# sample outliers\n",
    "np.random.shuffle(df_o_vals)\n",
    "\n",
    "df_o_subset = pd.DataFrame(df_o_vals[0:200, :], columns=list(df_o.columns))\n",
    "\n",
    "df2 = pd.concat([df_n, df_o_subset], axis=0)\n",
    "\n",
    "#np.unique(df['class'], return_counts=True)\n",
    "#(array([0, 1]), array([5581, 1017]))\n",
    "\n",
    "cols = ['f' + str(i) for i in range(1, 167)]\n",
    "\n",
    "x = np.array(df2[cols].values, dtype='float')\n",
    "y = np.array(df2['class'].values, dtype='int')\n",
    "      \n",
    "# standardize x\n",
    "avg = np.mean(x, axis=0)\n",
    "std = np.std(x, axis=0)\n",
    "\n",
    "x = (x - avg)/std\n",
    "    \n",
    "n_samples, n_features = x.shape"
   ]
  },
  {
   "cell_type": "code",
   "execution_count": 27,
   "metadata": {
    "collapsed": false
   },
   "outputs": [
    {
     "name": "stdout",
     "output_type": "stream",
     "text": [
      "0.5232870453323777\n"
     ]
    },
    {
     "data": {
      "text/plain": [
       "[<matplotlib.lines.Line2D at 0x1165aeb00>]"
      ]
     },
     "execution_count": 27,
     "metadata": {},
     "output_type": "execute_result"
    },
    {
     "data": {
      "image/png": "[encoded data removed]",
      "text/plain": [
       "<matplotlib.figure.Figure at 0x1162e5d30>"
      ]
     },
     "metadata": {},
     "output_type": "display_data"
    }
   ],
   "source": [
    "isf = IsolationForest(n_estimators=100, \n",
    "                      max_samples=0.5,\n",
    "                      max_features=0.2)\n",
    "\n",
    "isf = isf.fit(x)\n",
    "\n",
    "y_score1 = isf.score_samples(x)\n",
    "\n",
    "print(roc_auc_score(y_true=y, y_score=-y_score1))\n",
    "\n",
    "y_score1 = np.sort(y_score1)\n",
    "\n",
    "fig, ax = plt.subplots()\n",
    "ax.plot(y_score1)"
   ]
  },
  {
   "cell_type": "code",
   "execution_count": 28,
   "metadata": {
    "collapsed": false
   },
   "outputs": [
    {
     "name": "stdout",
     "output_type": "stream",
     "text": [
      "0.6327871349220571\n"
     ]
    },
    {
     "data": {
      "text/plain": [
       "[<matplotlib.lines.Line2D at 0x102b61f98>]"
      ]
     },
     "execution_count": 28,
     "metadata": {},
     "output_type": "execute_result"
    },
    {
     "data": {
      "image/png": "[encoded data removed]",
      "text/plain": [
       "<matplotlib.figure.Figure at 0x11ca9ce80>"
      ]
     },
     "metadata": {},
     "output_type": "display_data"
    }
   ],
   "source": [
    "isf = IsolationForest(n_estimators=500, \n",
    "                      max_samples=0.8,\n",
    "                      max_features=0.05)\n",
    "\n",
    "isf = isf.fit(x)\n",
    "\n",
    "y_score2 = isf.score_samples(x)\n",
    "\n",
    "print(roc_auc_score(y_true=y, y_score=-y_score2))\n",
    "\n",
    "y_score2 = np.sort(y_score2)\n",
    "\n",
    "fig, ax = plt.subplots()\n",
    "ax.plot(y_score2)"
   ]
  },
  {
   "cell_type": "code",
   "execution_count": 29,
   "metadata": {
    "collapsed": false
   },
   "outputs": [
    {
     "name": "stdout",
     "output_type": "stream",
     "text": [
      "0.6148566565131697\n"
     ]
    },
    {
     "data": {
      "text/plain": [
       "[<matplotlib.lines.Line2D at 0x11ca71cc0>]"
      ]
     },
     "execution_count": 29,
     "metadata": {},
     "output_type": "execute_result"
    },
    {
     "data": {
      "image/png": "[encoded data removed]",
      "text/plain": [
       "<matplotlib.figure.Figure at 0x119e1add8>"
      ]
     },
     "metadata": {},
     "output_type": "display_data"
    }
   ],
   "source": [
    "isf = IsolationForest(n_estimators=500, \n",
    "                      max_samples=0.5,\n",
    "                      max_features=0.05)\n",
    "\n",
    "isf = isf.fit(x)\n",
    "\n",
    "y_score3 = isf.score_samples(x)\n",
    "\n",
    "print(roc_auc_score(y_true=y, y_score=-y_score3))\n",
    "\n",
    "y_score3 = np.sort(y_score3)\n",
    "\n",
    "fig, ax = plt.subplots()\n",
    "ax.plot(y_score3)"
   ]
  },
  {
   "cell_type": "code",
   "execution_count": 34,
   "metadata": {
    "collapsed": false
   },
   "outputs": [
    {
     "data": {
      "text/plain": [
       "<matplotlib.legend.Legend at 0x11f39bc50>"
      ]
     },
     "execution_count": 34,
     "metadata": {},
     "output_type": "execute_result"
    },
    {
     "data": {
      "image/png": "[encoded data removed]",
      "text/plain": [
       "<matplotlib.figure.Figure at 0x11ee540f0>"
      ]
     },
     "metadata": {},
     "output_type": "display_data"
    }
   ],
   "source": [
    "fig, ax = plt.subplots(figsize=(16,12))\n",
    "ax.plot(y_score1, label='score1')\n",
    "ax.plot(y_score2, label='score2')\n",
    "ax.plot(y_score3, label='score3')\n",
    "ax.legend()"
   ]
  },
  {
   "cell_type": "code",
   "execution_count": 35,
   "metadata": {
    "collapsed": false
   },
   "outputs": [
    {
     "data": {
      "text/plain": [
       "-0.4299584697144668"
      ]
     },
     "execution_count": 35,
     "metadata": {},
     "output_type": "execute_result"
    }
   ],
   "source": [
    "auc(np.arange(0, y_score2.shape[0])/y_score2.shape[0], y_score2)"
   ]
  },
  {
   "cell_type": "code",
   "execution_count": 36,
   "metadata": {
    "collapsed": false
   },
   "outputs": [
    {
     "data": {
      "text/plain": [
       "-0.4342223700292114"
      ]
     },
     "execution_count": 36,
     "metadata": {},
     "output_type": "execute_result"
    }
   ],
   "source": [
    "auc(np.arange(0, y_score2.shape[0])/y_score2.shape[0], y_score1)"
   ]
  },
  {
   "cell_type": "code",
   "execution_count": 37,
   "metadata": {
    "collapsed": false
   },
   "outputs": [
    {
     "data": {
      "text/plain": [
       "-0.4338045151710491"
      ]
     },
     "execution_count": 37,
     "metadata": {},
     "output_type": "execute_result"
    }
   ],
   "source": [
    "auc(np.arange(0, y_score2.shape[0])/y_score2.shape[0], y_score3)"
   ]
  },
  {
   "cell_type": "code",
   "execution_count": 82,
   "metadata": {
    "collapsed": true
   },
   "outputs": [],
   "source": [
    "def isf_run(x, y, \n",
    "            n_estimators, \n",
    "            max_samples,\n",
    "            max_features):\n",
    "    \n",
    "    isf = IsolationForest(n_estimators=n_estimators, \n",
    "                      max_samples=max_samples,\n",
    "                      max_features=max_features)\n",
    "    \n",
    "    isf = isf.fit(x)\n",
    "\n",
    "    y_score = isf.score_samples(x)\n",
    "\n",
    "    #print(roc_auc_score(y_true=y, y_score=-y_score3))\n",
    "    \n",
    "    roc_auc = roc_auc_score(y_true=y, y_score=-y_score)\n",
    "\n",
    "    y_score = np.sort(y_score)\n",
    "    \n",
    "    min_y = np.min(y_score)\n",
    "    max_y = np.max(y_score)\n",
    "    range_y = max_y - min_y\n",
    "    \n",
    "    y_score_n = (y_score - min_y)/range_y\n",
    "    \n",
    "    score_auc = auc(np.arange(0, y_score.shape[0])/y_score.shape[0], y_score_n)\n",
    "    \n",
    "    res = {'n_estimators':n_estimators,\n",
    "          'max_samples':max_samples,\n",
    "          'max_features':max_features,\n",
    "          'roc_auc':roc_auc,\n",
    "          'score_auc':score_auc,\n",
    "          'scores':y_score,\n",
    "          'scores_n':y_score_n}\n",
    "    \n",
    "    return res"
   ]
  },
  {
   "cell_type": "code",
   "execution_count": 50,
   "metadata": {
    "collapsed": false
   },
   "outputs": [
    {
     "data": {
      "text/plain": [
       "{'max_features': 0.1,\n",
       " 'max_samples': 0.3,\n",
       " 'n_estimators': 100,\n",
       " 'roc_auc': 0.5598190288478767,\n",
       " 'score_auc': 0.8087292209193353}"
      ]
     },
     "execution_count": 50,
     "metadata": {},
     "output_type": "execute_result"
    }
   ],
   "source": [
    "isf_run(x, y, 100, 0.3, 0.1)"
   ]
  },
  {
   "cell_type": "code",
   "execution_count": 51,
   "metadata": {
    "collapsed": false
   },
   "outputs": [
    {
     "data": {
      "text/plain": [
       "{'max_features': 0.2,\n",
       " 'max_samples': 0.5,\n",
       " 'n_estimators': 100,\n",
       " 'roc_auc': 0.5908663321985308,\n",
       " 'score_auc': 0.8089415113331181}"
      ]
     },
     "execution_count": 51,
     "metadata": {},
     "output_type": "execute_result"
    }
   ],
   "source": [
    "isf_run(x, y, 100, 0.5, 0.2)"
   ]
  },
  {
   "cell_type": "code",
   "execution_count": 52,
   "metadata": {
    "collapsed": false
   },
   "outputs": [
    {
     "data": {
      "text/plain": [
       "{'max_features': 0.3,\n",
       " 'max_samples': 0.5,\n",
       " 'n_estimators': 100,\n",
       " 'roc_auc': 0.5775568894463359,\n",
       " 'score_auc': 0.7995319983488756}"
      ]
     },
     "execution_count": 52,
     "metadata": {},
     "output_type": "execute_result"
    }
   ],
   "source": [
    "isf_run(x, y, 100, 0.5, 0.3)"
   ]
  },
  {
   "cell_type": "code",
   "execution_count": 53,
   "metadata": {
    "collapsed": false
   },
   "outputs": [
    {
     "data": {
      "text/plain": [
       "{'max_features': 0.3,\n",
       " 'max_samples': 0.8,\n",
       " 'n_estimators': 100,\n",
       " 'roc_auc': 0.5955447052499552,\n",
       " 'score_auc': 0.8080734193023277}"
      ]
     },
     "execution_count": 53,
     "metadata": {},
     "output_type": "execute_result"
    }
   ],
   "source": [
    "isf_run(x, y, 100, 0.8, 0.3)"
   ]
  },
  {
   "cell_type": "code",
   "execution_count": 78,
   "metadata": {
    "collapsed": false
   },
   "outputs": [],
   "source": [
    "params = [[100, 0.2, 0.1], [100, 0.3, 0.2], [100, 0.4, 0.3], [100, 0.5, 0.4],\n",
    "         [500, 0.5, 0.05], [500, 0.8, 0.05]]"
   ]
  },
  {
   "cell_type": "code",
   "execution_count": 54,
   "metadata": {
    "collapsed": false
   },
   "outputs": [
    {
     "name": "stdout",
     "output_type": "stream",
     "text": [
      "{'n_estimators': 100, 'max_samples': 0.3, 'max_features': 0.1, 'roc_auc': 0.5326375201576778, 'score_auc': 0.8045799245307634}\n",
      "{'n_estimators': 100, 'max_samples': 0.5, 'max_features': 0.2, 'roc_auc': 0.5346058054112166, 'score_auc': 0.7848861418835502}\n",
      "{'n_estimators': 100, 'max_samples': 0.5, 'max_features': 0.3, 'roc_auc': 0.5881652033685719, 'score_auc': 0.7884981826134871}\n",
      "{'n_estimators': 100, 'max_samples': 0.8, 'max_features': 0.3, 'roc_auc': 0.5866905572478051, 'score_auc': 0.8045241523291207}\n"
     ]
    }
   ],
   "source": [
    "for p in params:\n",
    "    res2 = isf_run(x, y, p[0], p[1], p[2])\n",
    "    print(res2)"
   ]
  },
  {
   "cell_type": "code",
   "execution_count": 106,
   "metadata": {
    "collapsed": true
   },
   "outputs": [],
   "source": [
    "params = []\n",
    "ntrees = [100, 500, 1000]\n",
    "max_samp = [0.2, 0.5, 0.7, 0.9, 1.0]\n",
    "max_feat = [0.01, 0.05, 0.1, 0.2, 0.3, 0.5]\n",
    "\n",
    "for p1 in ntrees:\n",
    "    for p2 in max_samp:\n",
    "        for p3 in max_feat:\n",
    "            params.append([p1, p2, p3])"
   ]
  },
  {
   "cell_type": "code",
   "execution_count": 109,
   "metadata": {
    "collapsed": true
   },
   "outputs": [],
   "source": [
    "res = Parallel(n_jobs=4)(delayed(isf_run)(x, y, p[0], p[1], p[2]) for p in params)"
   ]
  },
  {
   "cell_type": "code",
   "execution_count": 83,
   "metadata": {
    "collapsed": true
   },
   "outputs": [],
   "source": [
    "res3 = []\n",
    "for p in params:\n",
    "    res2 = isf_run(x, y, p[0], p[1], p[2])\n",
    "    res3.append(res2)"
   ]
  },
  {
   "cell_type": "code",
   "execution_count": 84,
   "metadata": {
    "collapsed": false
   },
   "outputs": [
    {
     "data": {
      "text/plain": [
       "<matplotlib.legend.Legend at 0x120e4b940>"
      ]
     },
     "execution_count": 84,
     "metadata": {},
     "output_type": "execute_result"
    },
    {
     "data": {
      "image/png": "[encoded data removed]",
      "text/plain": [
       "<matplotlib.figure.Figure at 0x11e321908>"
      ]
     },
     "metadata": {},
     "output_type": "display_data"
    }
   ],
   "source": [
    "fig, ax = plt.subplots(figsize=(16,12))\n",
    "for res in res3:\n",
    "    rocauc = float(res['roc_auc'])\n",
    "    ax.plot(res['scores'], label=f'{rocauc:.2f}')\n",
    "    \n",
    "ax.legend()"
   ]
  },
  {
   "cell_type": "code",
   "execution_count": 85,
   "metadata": {
    "collapsed": false
   },
   "outputs": [
    {
     "data": {
      "text/plain": [
       "<matplotlib.legend.Legend at 0x12117ba20>"
      ]
     },
     "execution_count": 85,
     "metadata": {},
     "output_type": "execute_result"
    },
    {
     "data": {
      "image/png": "[encoded data removed]",
      "text/plain": [
       "<matplotlib.figure.Figure at 0x120e799e8>"
      ]
     },
     "metadata": {},
     "output_type": "display_data"
    }
   ],
   "source": [
    "fig, ax = plt.subplots(figsize=(16,12))\n",
    "for res in res3:\n",
    "    rocauc = float(res['roc_auc'])\n",
    "    ax.plot(res['scores_n'], label=f'{rocauc:.2f}')\n",
    "    \n",
    "ax.legend()"
   ]
  },
  {
   "cell_type": "code",
   "execution_count": 93,
   "metadata": {
    "collapsed": false
   },
   "outputs": [
    {
     "name": "stdout",
     "output_type": "stream",
     "text": [
      "0.5067452069521591 0.6972674185659018\n",
      "0.5345798244042286 0.7219325002933443\n",
      "0.5450026876903781 0.7064562768861281\n",
      "0.5578812040852894 0.7115737512848868\n",
      "0.627377710087798 0.721505737313632\n",
      "0.6341910051962014 0.7206278442076595\n"
     ]
    }
   ],
   "source": [
    "npts = 2500\n",
    "for res in res3:\n",
    "    print(res['roc_auc'], auc(np.arange(0, npts)/npts, res['scores_n'][0:npts]))"
   ]
  },
  {
   "cell_type": "code",
   "execution_count": 105,
   "metadata": {
    "collapsed": false
   },
   "outputs": [
    {
     "name": "stdout",
     "output_type": "stream",
     "text": [
      "0.51 0.1104\n",
      "0.53 0.0740\n",
      "0.55 0.0782\n",
      "0.56 0.1259\n",
      "0.63 0.1171\n",
      "0.63 0.1247\n"
     ]
    }
   ],
   "source": [
    "npts = 3\n",
    "bkpt = 10\n",
    "for res in res3:\n",
    "    mean1 = np.mean(res['scores_n'][bkpt-npts:bkpt])\n",
    "    mean2 = np.mean(res['scores_n'][bkpt:bkpt+npts])\n",
    "    meandiff = mean2 - mean1\n",
    "    #print(res['roc_auc'], auc(np.arange(0, npts)/npts, res['scores_n'][0:npts]))\n",
    "    print(f\"{float(res['roc_auc']):.2f}\", f'{meandiff:.4f}')"
   ]
  },
  {
   "cell_type": "code",
   "execution_count": 111,
   "metadata": {
    "collapsed": false
   },
   "outputs": [],
   "source": [
    "roc_aucs = [r['roc_auc'] for r in res]"
   ]
  },
  {
   "cell_type": "code",
   "execution_count": 112,
   "metadata": {
    "collapsed": false
   },
   "outputs": [
    {
     "data": {
      "text/plain": [
       "0.7314952517469987"
      ]
     },
     "execution_count": 112,
     "metadata": {},
     "output_type": "execute_result"
    }
   ],
   "source": [
    "np.max(roc_aucs)"
   ]
  },
  {
   "cell_type": "code",
   "execution_count": 113,
   "metadata": {
    "collapsed": false
   },
   "outputs": [
    {
     "data": {
      "text/plain": [
       "[{'max_features': 0.01,\n",
       "  'max_samples': 0.2,\n",
       "  'n_estimators': 100,\n",
       "  'roc_auc': 0.6994776921698621,\n",
       "  'score_auc': 0.744272704808238,\n",
       "  'scores': array([-0.58461611, -0.57843242, -0.57704301, ..., -0.43032989,\n",
       "         -0.43022356, -0.4289738 ]),\n",
       "  'scores_n': array([0.        , 0.03973016, 0.04865707, ..., 0.9912871 , 0.99197031,\n",
       "         1.        ])},\n",
       " {'max_features': 0.05,\n",
       "  'max_samples': 0.2,\n",
       "  'n_estimators': 100,\n",
       "  'roc_auc': 0.5979188317505824,\n",
       "  'score_auc': 0.7677513912768974,\n",
       "  'scores': array([-0.62954376, -0.6293077 , -0.62669151, ..., -0.380955  ,\n",
       "         -0.38049961, -0.37906245]),\n",
       "  'scores_n': array([0.00000000e+00, 9.42455743e-04, 1.13871085e-02, ...,\n",
       "         9.92444373e-01, 9.94262431e-01, 1.00000000e+00])},\n",
       " {'max_features': 0.1,\n",
       "  'max_samples': 0.2,\n",
       "  'n_estimators': 100,\n",
       "  'roc_auc': 0.5368473391865257,\n",
       "  'score_auc': 0.7810468575980709,\n",
       "  'scores': array([-0.66545888, -0.64840364, -0.64712631, ..., -0.38514412,\n",
       "         -0.38095964, -0.3779847 ]),\n",
       "  'scores_n': array([0.        , 0.05932789, 0.06377119, ..., 0.97509544, 0.98965143,\n",
       "         1.        ])},\n",
       " {'max_features': 0.2,\n",
       "  'max_samples': 0.2,\n",
       "  'n_estimators': 100,\n",
       "  'roc_auc': 0.5767667084751836,\n",
       "  'score_auc': 0.7877778036029583,\n",
       "  'scores': array([-0.66068105, -0.65365537, -0.63687568, ..., -0.37997854,\n",
       "         -0.37943356, -0.37868706]),\n",
       "  'scores_n': array([0.        , 0.02491429, 0.08441799, ..., 0.9954202 , 0.99735278,\n",
       "         1.        ])},\n",
       " {'max_features': 0.3,\n",
       "  'max_samples': 0.2,\n",
       "  'n_estimators': 100,\n",
       "  'roc_auc': 0.5539186525712237,\n",
       "  'score_auc': 0.7710437674287638,\n",
       "  'scores': array([-0.66115329, -0.66055934, -0.63953756, ..., -0.37850157,\n",
       "         -0.37528842, -0.37514259]),\n",
       "  'scores_n': array([0.        , 0.0020767 , 0.07557668, ..., 0.98825578, 0.99949013,\n",
       "         1.        ])},\n",
       " {'max_features': 0.5,\n",
       "  'max_samples': 0.2,\n",
       "  'n_estimators': 100,\n",
       "  'roc_auc': 0.49399390790180975,\n",
       "  'score_auc': 0.7702648227310239,\n",
       "  'scores': array([-0.64946643, -0.64935692, -0.64653422, ..., -0.37659895,\n",
       "         -0.37482905, -0.37411071]),\n",
       "  'scores_n': array([0.00000000e+00, 3.97681610e-04, 1.06487955e-02, ...,\n",
       "         9.90963551e-01, 9.97391248e-01, 1.00000000e+00])},\n",
       " {'max_features': 0.01,\n",
       "  'max_samples': 0.5,\n",
       "  'n_estimators': 100,\n",
       "  'roc_auc': 0.7242841784626411,\n",
       "  'score_auc': 0.7717130980508704,\n",
       "  'scores': array([-0.5902445 , -0.57907943, -0.5719758 , ..., -0.4204264 ,\n",
       "         -0.42013348, -0.42013348]),\n",
       "  'scores_n': array([0.        , 0.06563402, 0.10739279, ..., 0.9982781 , 1.        ,\n",
       "         1.        ])},\n",
       " {'max_features': 0.05,\n",
       "  'max_samples': 0.5,\n",
       "  'n_estimators': 100,\n",
       "  'roc_auc': 0.6201711162874037,\n",
       "  'score_auc': 0.8109245659159778,\n",
       "  'scores': array([-0.66891045, -0.64736708, -0.64630684, ..., -0.38591347,\n",
       "         -0.38506824, -0.38125896]),\n",
       "  'scores_n': array([0.        , 0.074894  , 0.07857985, ..., 0.98381894, 0.98675733,\n",
       "         1.        ])},\n",
       " {'max_features': 0.1,\n",
       "  'max_samples': 0.5,\n",
       "  'n_estimators': 100,\n",
       "  'roc_auc': 0.5788389177566744,\n",
       "  'score_auc': 0.7927791374029934,\n",
       "  'scores': array([-0.657443  , -0.63297664, -0.63285215, ..., -0.37823163,\n",
       "         -0.37690449, -0.37339184]),\n",
       "  'scores_n': array([0.        , 0.08613364, 0.08657191, ..., 0.98296157, 0.98763376,\n",
       "         1.        ])},\n",
       " {'max_features': 0.2,\n",
       "  'max_samples': 0.5,\n",
       "  'n_estimators': 100,\n",
       "  'roc_auc': 0.5966108224332557,\n",
       "  'score_auc': 0.8015503093584482,\n",
       "  'scores': array([-0.67185673, -0.66979995, -0.6465093 , ..., -0.38106991,\n",
       "         -0.37979701, -0.37644276]),\n",
       "  'scores_n': array([0.        , 0.00696237, 0.08580307, ..., 0.98433673, 0.98864563,\n",
       "         1.        ])},\n",
       " {'max_features': 0.3,\n",
       "  'max_samples': 0.5,\n",
       "  'n_estimators': 100,\n",
       "  'roc_auc': 0.5356244400645045,\n",
       "  'score_auc': 0.7974334367358938,\n",
       "  'scores': array([-0.66361607, -0.66285583, -0.6606272 , ..., -0.37729837,\n",
       "         -0.37449185, -0.37336833]),\n",
       "  'scores_n': array([0.        , 0.00261928, 0.01029766, ..., 0.9864597 , 0.99612909,\n",
       "         1.        ])},\n",
       " {'max_features': 0.5,\n",
       "  'max_samples': 0.5,\n",
       "  'n_estimators': 100,\n",
       "  'roc_auc': 0.5710786597383982,\n",
       "  'score_auc': 0.8095295819008959,\n",
       "  'scores': array([-0.66518503, -0.64998999, -0.64684083, ..., -0.37747489,\n",
       "         -0.37738233, -0.37620671]),\n",
       "  'scores_n': array([0.        , 0.05258195, 0.06347951, ..., 0.99561151, 0.9959318 ,\n",
       "         1.        ])},\n",
       " {'max_features': 0.01,\n",
       "  'max_samples': 0.7,\n",
       "  'n_estimators': 100,\n",
       "  'roc_auc': 0.6759621931553484,\n",
       "  'score_auc': 0.7147853175105363,\n",
       "  'scores': array([-0.56998931, -0.5642816 , -0.5550153 , ..., -0.42675796,\n",
       "         -0.4266908 , -0.42669074]),\n",
       "  'scores_n': array([0.        , 0.03983094, 0.10449519, ..., 0.99953096, 0.99999962,\n",
       "         1.        ])},\n",
       " {'max_features': 0.05,\n",
       "  'max_samples': 0.7,\n",
       "  'n_estimators': 100,\n",
       "  'roc_auc': 0.6080657588245834,\n",
       "  'score_auc': 0.8217447279529391,\n",
       "  'scores': array([-0.6384577 , -0.63129161, -0.62972058, ..., -0.38657875,\n",
       "         -0.38640534, -0.38591342]),\n",
       "  'scores_n': array([0.        , 0.02837558, 0.0345964 , ..., 0.99736548, 0.99805215,\n",
       "         1.        ])},\n",
       " {'max_features': 0.1,\n",
       "  'max_samples': 0.7,\n",
       "  'n_estimators': 100,\n",
       "  'roc_auc': 0.5706540046586632,\n",
       "  'score_auc': 0.8010517701377389,\n",
       "  'scores': array([-0.64260972, -0.64014035, -0.63662735, ..., -0.38637869,\n",
       "         -0.3815633 , -0.38139232]),\n",
       "  'scores_n': array([0.        , 0.00945332, 0.02290189, ..., 0.98091103, 0.99934544,\n",
       "         1.        ])},\n",
       " {'max_features': 0.2,\n",
       "  'max_samples': 0.7,\n",
       "  'n_estimators': 100,\n",
       "  'roc_auc': 0.5742823866690557,\n",
       "  'score_auc': 0.8062231649337417,\n",
       "  'scores': array([-0.6504955 , -0.64603306, -0.63020553, ..., -0.38205448,\n",
       "         -0.37938819, -0.37674146]),\n",
       "  'scores_n': array([0.        , 0.01630092, 0.07411752, ..., 0.98059198, 0.9903317 ,\n",
       "         1.        ])},\n",
       " {'max_features': 0.3,\n",
       "  'max_samples': 0.7,\n",
       "  'n_estimators': 100,\n",
       "  'roc_auc': 0.5634053037090128,\n",
       "  'score_auc': 0.8069615439574136,\n",
       "  'scores': array([-0.64019677, -0.63747357, -0.62989876, ..., -0.38313937,\n",
       "         -0.38295434, -0.38286422]),\n",
       "  'scores_n': array([0.        , 0.0105824 , 0.04001831, ..., 0.99893079, 0.99964982,\n",
       "         1.        ])},\n",
       " {'max_features': 0.5,\n",
       "  'max_samples': 0.7,\n",
       "  'n_estimators': 100,\n",
       "  'roc_auc': 0.5845565310876186,\n",
       "  'score_auc': 0.801639077350127,\n",
       "  'scores': array([-0.65740307, -0.64818972, -0.64161968, ..., -0.3774416 ,\n",
       "         -0.37691243, -0.37457586]),\n",
       "  'scores_n': array([0.        , 0.0325759 , 0.05580579, ..., 0.98986751, 0.99173851,\n",
       "         1.        ])},\n",
       " {'max_features': 0.01,\n",
       "  'max_samples': 0.9,\n",
       "  'n_estimators': 100,\n",
       "  'roc_auc': 0.7314952517469987,\n",
       "  'score_auc': 0.7235758996530423,\n",
       "  'scores': array([-0.56836712, -0.56389117, -0.56268202, ..., -0.429763  ,\n",
       "         -0.42965889, -0.42929911]),\n",
       "  'scores_n': array([0.        , 0.03218535, 0.04088006, ..., 0.99666425, 0.99741289,\n",
       "         1.        ])},\n",
       " {'max_features': 0.05,\n",
       "  'max_samples': 0.9,\n",
       "  'n_estimators': 100,\n",
       "  'roc_auc': 0.6395305500806308,\n",
       "  'score_auc': 0.8039662553024877,\n",
       "  'scores': array([-0.66216449, -0.64597891, -0.63288221, ..., -0.3810373 ,\n",
       "         -0.37853855, -0.37470955]),\n",
       "  'scores_n': array([0.        , 0.05630651, 0.10186738, ..., 0.97798699, 0.98667964,\n",
       "         1.        ])},\n",
       " {'max_features': 0.1,\n",
       "  'max_samples': 0.9,\n",
       "  'n_estimators': 100,\n",
       "  'roc_auc': 0.6198459057516574,\n",
       "  'score_auc': 0.7961518320227162,\n",
       "  'scores': array([-0.67336434, -0.66727089, -0.64962719, ..., -0.37997258,\n",
       "         -0.37385911, -0.37160385]),\n",
       "  'scores_n': array([0.        , 0.02019298, 0.07866221, ..., 0.97226698, 0.99252632,\n",
       "         1.        ])},\n",
       " {'max_features': 0.2,\n",
       "  'max_samples': 0.9,\n",
       "  'n_estimators': 100,\n",
       "  'roc_auc': 0.6343630173803977,\n",
       "  'score_auc': 0.8120004796963812,\n",
       "  'scores': array([-0.67228374, -0.65632673, -0.64490395, ..., -0.37453945,\n",
       "         -0.37364677, -0.37345243]),\n",
       "  'scores_n': array([0.        , 0.05339803, 0.09162289, ..., 0.99636244, 0.99934968,\n",
       "         1.        ])},\n",
       " {'max_features': 0.3,\n",
       "  'max_samples': 0.9,\n",
       "  'n_estimators': 100,\n",
       "  'roc_auc': 0.5950053753807562,\n",
       "  'score_auc': 0.8115428818627617,\n",
       "  'scores': array([-0.66070645, -0.66020613, -0.65288557, ..., -0.37636094,\n",
       "         -0.37618859, -0.3725283 ]),\n",
       "  'scores_n': array([0.        , 0.00173615, 0.02713906, ..., 0.98670045, 0.98729852,\n",
       "         1.        ])},\n",
       " {'max_features': 0.5,\n",
       "  'max_samples': 0.9,\n",
       "  'n_estimators': 100,\n",
       "  'roc_auc': 0.5213554918473392,\n",
       "  'score_auc': 0.7988488867048943,\n",
       "  'scores': array([-0.66699582, -0.66289434, -0.64920429, ..., -0.37184173,\n",
       "         -0.37177554, -0.36717277]),\n",
       "  'scores_n': array([0.        , 0.01367966, 0.0593401 , ..., 0.98442762, 0.98464837,\n",
       "         1.        ])},\n",
       " {'max_features': 0.01,\n",
       "  'max_samples': 1.0,\n",
       "  'n_estimators': 100,\n",
       "  'roc_auc': 0.7279761691453145,\n",
       "  'score_auc': 0.723905989587196,\n",
       "  'scores': array([-0.58865346, -0.58388275, -0.58172892, ..., -0.42692073,\n",
       "         -0.42678789, -0.42640684]),\n",
       "  'scores_n': array([0.        , 0.02940409, 0.04267908, ..., 0.99683263, 0.99765141,\n",
       "         1.        ])},\n",
       " {'max_features': 0.05,\n",
       "  'max_samples': 1.0,\n",
       "  'n_estimators': 100,\n",
       "  'roc_auc': 0.6236445081526608,\n",
       "  'score_auc': 0.811799688725787,\n",
       "  'scores': array([-0.65430259, -0.65247934, -0.63550291, ..., -0.3826636 ,\n",
       "         -0.38237355, -0.38142225]),\n",
       "  'scores_n': array([0.        , 0.00668148, 0.06889351, ..., 0.99545095, 0.99651386,\n",
       "         1.        ])},\n",
       " {'max_features': 0.1,\n",
       "  'max_samples': 1.0,\n",
       "  'n_estimators': 100,\n",
       "  'roc_auc': 0.6350089589679269,\n",
       "  'score_auc': 0.8221508253447534,\n",
       "  'scores': array([-0.69000517, -0.68258348, -0.64775054, ..., -0.37739606,\n",
       "         -0.3759817 , -0.37291872]),\n",
       "  'scores_n': array([0.        , 0.0234059 , 0.13325901, ..., 0.98587975, 0.99034025,\n",
       "         1.        ])},\n",
       " {'max_features': 0.2,\n",
       "  'max_samples': 1.0,\n",
       "  'n_estimators': 100,\n",
       "  'roc_auc': 0.569027951979932,\n",
       "  'score_auc': 0.7975293698136787,\n",
       "  'scores': array([-0.65717182, -0.65363889, -0.63065691, ..., -0.37857473,\n",
       "         -0.37672947, -0.37408827]),\n",
       "  'scores_n': array([0.        , 0.01248015, 0.09366461, ..., 0.98415148, 0.99066989,\n",
       "         1.        ])},\n",
       " {'max_features': 0.3,\n",
       "  'max_samples': 1.0,\n",
       "  'n_estimators': 100,\n",
       "  'roc_auc': 0.6064997312309622,\n",
       "  'score_auc': 0.799456233138278,\n",
       "  'scores': array([-0.65575883, -0.64208718, -0.62090714, ..., -0.37567624,\n",
       "         -0.37560072, -0.37257472]),\n",
       "  'scores_n': array([0.        , 0.0482783 , 0.12307079, ..., 0.98904771, 0.98931436,\n",
       "         1.        ])},\n",
       " {'max_features': 0.5,\n",
       "  'max_samples': 1.0,\n",
       "  'n_estimators': 100,\n",
       "  'roc_auc': 0.5612139401540943,\n",
       "  'score_auc': 0.8129091398531219,\n",
       "  'scores': array([-0.65761166, -0.65470552, -0.63527847, ..., -0.37856201,\n",
       "         -0.37663026, -0.37485669]),\n",
       "  'scores_n': array([0.        , 0.01027796, 0.07898425, ..., 0.98689565, 0.99372754,\n",
       "         1.        ])},\n",
       " {'max_features': 0.01,\n",
       "  'max_samples': 0.2,\n",
       "  'n_estimators': 500,\n",
       "  'roc_auc': 0.7057883891775667,\n",
       "  'score_auc': 0.7307172475309542,\n",
       "  'scores': array([-0.5861564 , -0.58581308, -0.58165882, ..., -0.42473203,\n",
       "         -0.42460591, -0.42381663]),\n",
       "  'scores_n': array([0.        , 0.00211482, 0.02770473, ..., 0.99436122, 0.99513812,\n",
       "         1.        ])},\n",
       " {'max_features': 0.05,\n",
       "  'max_samples': 0.2,\n",
       "  'n_estimators': 500,\n",
       "  'roc_auc': 0.5955294750044794,\n",
       "  'score_auc': 0.7834070641604426,\n",
       "  'scores': array([-0.64489986, -0.64355088, -0.63150044, ..., -0.38637484,\n",
       "         -0.38524591, -0.38449736]),\n",
       "  'scores_n': array([0.        , 0.00518035, 0.05145657, ..., 0.99279011, 0.99712542,\n",
       "         1.        ])},\n",
       " {'max_features': 0.1,\n",
       "  'max_samples': 0.2,\n",
       "  'n_estimators': 500,\n",
       "  'roc_auc': 0.5696022218240459,\n",
       "  'score_auc': 0.782691235718226,\n",
       "  'scores': array([-0.65131009, -0.64495162, -0.64173159, ..., -0.38463071,\n",
       "         -0.38378718, -0.38068566]),\n",
       "  'scores_n': array([0.        , 0.02349554, 0.03539407, ..., 0.98542242, 0.98853941,\n",
       "         1.        ])},\n",
       " {'max_features': 0.2,\n",
       "  'max_samples': 0.2,\n",
       "  'n_estimators': 500,\n",
       "  'roc_auc': 0.5539168607776384,\n",
       "  'score_auc': 0.7818587771925548,\n",
       "  'scores': array([-0.64264112, -0.64057606, -0.63958075, ..., -0.38057512,\n",
       "         -0.38054232, -0.37987832]),\n",
       "  'scores_n': array([0.        , 0.00785901, 0.01164687, ..., 0.9973482 , 0.99747303,\n",
       "         1.        ])},\n",
       " {'max_features': 0.3,\n",
       "  'max_samples': 0.2,\n",
       "  'n_estimators': 500,\n",
       "  'roc_auc': 0.5437663501164666,\n",
       "  'score_auc': 0.7800369822577149,\n",
       "  'scores': array([-0.65545218, -0.65061386, -0.63834101, ..., -0.37955506,\n",
       "         -0.37946616, -0.37731822]),\n",
       "  'scores_n': array([0.        , 0.01739565, 0.06152135, ..., 0.99195769, 0.99227731,\n",
       "         1.        ])},\n",
       " {'max_features': 0.5,\n",
       "  'max_samples': 0.2,\n",
       "  'n_estimators': 500,\n",
       "  'roc_auc': 0.5415373588962551,\n",
       "  'score_auc': 0.7832253581313593,\n",
       "  'scores': array([-0.65175889, -0.64185514, -0.63366423, ..., -0.38149294,\n",
       "         -0.38058381, -0.38048317]),\n",
       "  'scores_n': array([0.        , 0.03650807, 0.06670208, ..., 0.99627768, 0.99962902,\n",
       "         1.        ])},\n",
       " {'max_features': 0.01,\n",
       "  'max_samples': 0.5,\n",
       "  'n_estimators': 500,\n",
       "  'roc_auc': 0.7031678910589501,\n",
       "  'score_auc': 0.751115683052534,\n",
       "  'scores': array([-0.58248614, -0.57921209, -0.57191564, ..., -0.42770739,\n",
       "         -0.42753237, -0.42722773]),\n",
       "  'scores_n': array([0.        , 0.02108773, 0.06808322, ..., 0.9969106 , 0.99803783,\n",
       "         1.        ])},\n",
       " {'max_features': 0.05,\n",
       "  'max_samples': 0.5,\n",
       "  'n_estimators': 500,\n",
       "  'roc_auc': 0.6202651854506361,\n",
       "  'score_auc': 0.8045462152919495,\n",
       "  'scores': array([-0.6461758 , -0.64518299, -0.63576069, ..., -0.38537746,\n",
       "         -0.38320817, -0.3826075 ]),\n",
       "  'scores_n': array([0.        , 0.00376679, 0.03951579, ..., 0.98949056, 0.99772103,\n",
       "         1.        ])},\n",
       " {'max_features': 0.1,\n",
       "  'max_samples': 0.5,\n",
       "  'n_estimators': 500,\n",
       "  'roc_auc': 0.5972048020068088,\n",
       "  'score_auc': 0.8191555092080257,\n",
       "  'scores': array([-0.66274348, -0.65538779, -0.64493251, ..., -0.38215458,\n",
       "         -0.38209057, -0.38195998]),\n",
       "  'scores_n': array([0.        , 0.02619703, 0.06343312, ..., 0.99930695, 0.99953491,\n",
       "         1.        ])},\n",
       " {'max_features': 0.2,\n",
       "  'max_samples': 0.5,\n",
       "  'n_estimators': 500,\n",
       "  'roc_auc': 0.5864280594875471,\n",
       "  'score_auc': 0.7987809943385344,\n",
       "  'scores': array([-0.65117686, -0.64795267, -0.63793081, ..., -0.38107166,\n",
       "         -0.38032261, -0.37831248]),\n",
       "  'scores_n': array([0.        , 0.01181611, 0.04854447, ..., 0.98988808, 0.99263321,\n",
       "         1.        ])},\n",
       " {'max_features': 0.3,\n",
       "  'max_samples': 0.5,\n",
       "  'n_estimators': 500,\n",
       "  'roc_auc': 0.5810634294929224,\n",
       "  'score_auc': 0.8059562846417054,\n",
       "  'scores': array([-0.6537783 , -0.65214191, -0.64919759, ..., -0.38169433,\n",
       "         -0.38133245, -0.37999859]),\n",
       "  'scores_n': array([0.        , 0.00597705, 0.01673137, ..., 0.99380619, 0.99512798,\n",
       "         1.        ])},\n",
       " {'max_features': 0.5,\n",
       "  'max_samples': 0.5,\n",
       "  'n_estimators': 500,\n",
       "  'roc_auc': 0.5871331302633936,\n",
       "  'score_auc': 0.805506707344877,\n",
       "  'scores': array([-0.65857612, -0.65299899, -0.64342704, ..., -0.37917441,\n",
       "         -0.37915684, -0.37857928]),\n",
       "  'scores_n': array([0.        , 0.01991852, 0.05410446, ..., 0.99787453, 0.99793726,\n",
       "         1.        ])},\n",
       " {'max_features': 0.01,\n",
       "  'max_samples': 0.7,\n",
       "  'n_estimators': 500,\n",
       "  'roc_auc': 0.6981625156781939,\n",
       "  'score_auc': 0.7485962868021669,\n",
       "  'scores': array([-0.58870643, -0.57859697, -0.57616261, ..., -0.42942657,\n",
       "         -0.42930233, -0.42897379]),\n",
       "  'scores_n': array([0.        , 0.06328986, 0.07853007, ..., 0.99716542, 0.99794324,\n",
       "         1.        ])},\n",
       " {'max_features': 0.05,\n",
       "  'max_samples': 0.7,\n",
       "  'n_estimators': 500,\n",
       "  'roc_auc': 0.6169405124529654,\n",
       "  'score_auc': 0.8163393246614451,\n",
       "  'scores': array([-0.65261802, -0.64354728, -0.63370483, ..., -0.3896993 ,\n",
       "         -0.38860474, -0.38719262]),\n",
       "  'scores_n': array([0.        , 0.03417435, 0.07125614, ..., 0.99055596, 0.99467976,\n",
       "         1.        ])},\n",
       " {'max_features': 0.1,\n",
       "  'max_samples': 0.7,\n",
       "  'n_estimators': 500,\n",
       "  'roc_auc': 0.6031222003225228,\n",
       "  'score_auc': 0.8075596395678779,\n",
       "  'scores': array([-0.64754131, -0.63785855, -0.63555686, ..., -0.38238113,\n",
       "         -0.38178614, -0.38174373]),\n",
       "  'scores_n': array([0.        , 0.03642906, 0.04508862, ..., 0.99760193, 0.99984045,\n",
       "         1.        ])},\n",
       " {'max_features': 0.2,\n",
       "  'max_samples': 0.7,\n",
       "  'n_estimators': 500,\n",
       "  'roc_auc': 0.5983309442752196,\n",
       "  'score_auc': 0.8160824400682928,\n",
       "  'scores': array([-0.65726168, -0.64547241, -0.63358578, ..., -0.38454437,\n",
       "         -0.38336017, -0.38241829]),\n",
       "  'scores_n': array([0.        , 0.04289451, 0.08614326, ..., 0.99226439, 0.99657301,\n",
       "         1.        ])},\n",
       " {'max_features': 0.3,\n",
       "  'max_samples': 0.7,\n",
       "  'n_estimators': 500,\n",
       "  'roc_auc': 0.5673821895717612,\n",
       "  'score_auc': 0.8151030949509075,\n",
       "  'scores': array([-0.65955979, -0.65694431, -0.63990697, ..., -0.38167273,\n",
       "         -0.38101759, -0.37967631]),\n",
       "  'scores_n': array([0.        , 0.00934489, 0.07021785, ..., 0.99286697, 0.99520773,\n",
       "         1.        ])},\n",
       " {'max_features': 0.5,\n",
       "  'max_samples': 0.7,\n",
       "  'n_estimators': 500,\n",
       "  'roc_auc': 0.5748226124350475,\n",
       "  'score_auc': 0.7986528563340789,\n",
       "  'scores': array([-0.6526944 , -0.64884096, -0.64038884, ..., -0.37985348,\n",
       "         -0.37872203, -0.37537097]),\n",
       "  'scores_n': array([0.        , 0.01389513, 0.0443726 , ..., 0.98383651, 0.98791643,\n",
       "         1.        ])},\n",
       " {'max_features': 0.01,\n",
       "  'max_samples': 0.9,\n",
       "  'n_estimators': 500,\n",
       "  'roc_auc': 0.7115248163411575,\n",
       "  'score_auc': 0.735273356071933,\n",
       "  'scores': array([-0.57668842, -0.57353189, -0.57130526, ..., -0.43154181,\n",
       "         -0.43150054, -0.43118608]),\n",
       "  'scores_n': array([0.        , 0.02169398, 0.03699705, ..., 0.99755517, 0.99783885,\n",
       "         1.        ])},\n",
       " {'max_features': 0.05,\n",
       "  'max_samples': 0.9,\n",
       "  'n_estimators': 500,\n",
       "  'roc_auc': 0.6262273786059845,\n",
       "  'score_auc': 0.8174093052562829,\n",
       "  'scores': array([-0.66069621, -0.6540652 , -0.63930965, ..., -0.3792447 ,\n",
       "         -0.37872765, -0.37764302]),\n",
       "  'scores_n': array([0.        , 0.02342672, 0.07555668, ..., 0.99434144, 0.99616812,\n",
       "         1.        ])},\n",
       " {'max_features': 0.1,\n",
       "  'max_samples': 0.9,\n",
       "  'n_estimators': 500,\n",
       "  'roc_auc': 0.6211225586812399,\n",
       "  'score_auc': 0.8162381222746192,\n",
       "  'scores': array([-0.664504  , -0.65932487, -0.64153757, ..., -0.37757279,\n",
       "         -0.37725732, -0.37624698]),\n",
       "  'scores_n': array([0.        , 0.01796705, 0.07967344, ..., 0.99540059, 0.99649502,\n",
       "         1.        ])},\n",
       " {'max_features': 0.2,\n",
       "  'max_samples': 0.9,\n",
       "  'n_estimators': 500,\n",
       "  'roc_auc': 0.5953019172191364,\n",
       "  'score_auc': 0.8088668996222391,\n",
       "  'scores': array([-0.66221387, -0.65277387, -0.63934445, ..., -0.37514254,\n",
       "         -0.37513518, -0.37389298]),\n",
       "  'scores_n': array([0.        , 0.03274129, 0.07931934, ..., 0.99566609, 0.99569162,\n",
       "         1.        ])},\n",
       " {'max_features': 0.3,\n",
       "  'max_samples': 0.9,\n",
       "  'n_estimators': 500,\n",
       "  'roc_auc': 0.5924305679985666,\n",
       "  'score_auc': 0.8165686727329123,\n",
       "  'scores': array([-0.66608985, -0.66485605, -0.63740369, ..., -0.37663601,\n",
       "         -0.37653724, -0.37652828]),\n",
       "  'scores_n': array([0.        , 0.00426093, 0.09906759, ..., 0.99962795, 0.99996904,\n",
       "         1.        ])},\n",
       " {'max_features': 0.5,\n",
       "  'max_samples': 0.9,\n",
       "  'n_estimators': 500,\n",
       "  'roc_auc': 0.6103798602401005,\n",
       "  'score_auc': 0.8082919566909659,\n",
       "  'scores': array([-0.65990635, -0.65703622, -0.63653443, ..., -0.37663842,\n",
       "         -0.37587536, -0.37455768]),\n",
       "  'scores_n': array([0.        , 0.01005833, 0.08190651, ..., 0.99270806, 0.99538219,\n",
       "         1.        ])},\n",
       " {'max_features': 0.01,\n",
       "  'max_samples': 1.0,\n",
       "  'n_estimators': 500,\n",
       "  'roc_auc': 0.6998683031714746,\n",
       "  'score_auc': 0.7183166299424391,\n",
       "  'scores': array([-0.5723465 , -0.57060329, -0.56988374, ..., -0.43078605,\n",
       "         -0.43058125, -0.43033688]),\n",
       "  'scores_n': array([0.        , 0.01227532, 0.01734224, ..., 0.99683704, 0.99827925,\n",
       "         1.        ])},\n",
       " {'max_features': 0.05,\n",
       "  'max_samples': 1.0,\n",
       "  'n_estimators': 500,\n",
       "  'roc_auc': 0.6393701845547394,\n",
       "  'score_auc': 0.81468403835168,\n",
       "  'scores': array([-0.66193149, -0.66042989, -0.63404475, ..., -0.38138907,\n",
       "         -0.37921183, -0.37787836]),\n",
       "  'scores_n': array([0.        , 0.00528632, 0.09817436, ..., 0.98764067, 0.99530557,\n",
       "         1.        ])},\n",
       " {'max_features': 0.1,\n",
       "  'max_samples': 1.0,\n",
       "  'n_estimators': 500,\n",
       "  'roc_auc': 0.6205563519082602,\n",
       "  'score_auc': 0.8172164470230541,\n",
       "  'scores': array([-0.66405808, -0.65200166, -0.63995474, ..., -0.37952141,\n",
       "         -0.37881781, -0.37722775]),\n",
       "  'scores_n': array([0.        , 0.04203329, 0.08403343, ..., 0.99200342, 0.99445643,\n",
       "         1.        ])},\n",
       " {'max_features': 0.2,\n",
       "  'max_samples': 1.0,\n",
       "  'n_estimators': 500,\n",
       "  'roc_auc': 0.614486651137789,\n",
       "  'score_auc': 0.8122610679336264,\n",
       "  'scores': array([-0.66500754, -0.65379139, -0.63929195, ..., -0.37586549,\n",
       "         -0.37525902, -0.37489751]),\n",
       "  'scores_n': array([0.        , 0.03866172, 0.08864082, ..., 0.9966634 , 0.99875389,\n",
       "         1.        ])},\n",
       " {'max_features': 0.3,\n",
       "  'max_samples': 1.0,\n",
       "  'n_estimators': 500,\n",
       "  'roc_auc': 0.6092922415337753,\n",
       "  'score_auc': 0.8068338718688974,\n",
       "  'scores': array([-0.66677267, -0.6649986 , -0.64101645, ..., -0.37435385,\n",
       "         -0.37360424, -0.37105352]),\n",
       "  'scores_n': array([0.        , 0.00599915, 0.08709689, ..., 0.98883966, 0.99137454,\n",
       "         1.        ])},\n",
       " {'max_features': 0.5,\n",
       "  'max_samples': 1.0,\n",
       "  'n_estimators': 500,\n",
       "  'roc_auc': 0.5738093531625157,\n",
       "  'score_auc': 0.8137141303882047,\n",
       "  'scores': array([-0.66374695, -0.66344151, -0.64781491, ..., -0.37589128,\n",
       "         -0.3756939 , -0.37491207]),\n",
       "  'scores_n': array([0.        , 0.00105751, 0.05515971, ..., 0.99660979, 0.99729316,\n",
       "         1.        ])},\n",
       " {'max_features': 0.01,\n",
       "  'max_samples': 0.2,\n",
       "  'n_estimators': 1000,\n",
       "  'roc_auc': 0.6879985665651317,\n",
       "  'score_auc': 0.7221622681422714,\n",
       "  'scores': array([-0.58038877, -0.57987827, -0.57017778, ..., -0.42402547,\n",
       "         -0.42388781, -0.42350928]),\n",
       "  'scores_n': array([0.        , 0.00325407, 0.06508809, ..., 0.99670963, 0.99758711,\n",
       "         1.        ])},\n",
       " {'max_features': 0.05,\n",
       "  'max_samples': 0.2,\n",
       "  'n_estimators': 1000,\n",
       "  'roc_auc': 0.5816170937108045,\n",
       "  'score_auc': 0.7830370474796158,\n",
       "  'scores': array([-0.64541425, -0.64132375, -0.63801265, ..., -0.38893853,\n",
       "         -0.38566077, -0.38285559]),\n",
       "  'scores_n': array([0.        , 0.01557935, 0.02819026, ..., 0.97683208, 0.98931599,\n",
       "         1.        ])},\n",
       " {'max_features': 0.1,\n",
       "  'max_samples': 0.2,\n",
       "  'n_estimators': 1000,\n",
       "  'roc_auc': 0.5616179896075972,\n",
       "  'score_auc': 0.7841308862825507,\n",
       "  'scores': array([-0.64340864, -0.6429023 , -0.6332427 , ..., -0.3821569 ,\n",
       "         -0.38155448, -0.38108713]),\n",
       "  'scores_n': array([0.        , 0.00193021, 0.03875373, ..., 0.9959219 , 0.99821839,\n",
       "         1.        ])},\n",
       " {'max_features': 0.2,\n",
       "  'max_samples': 0.2,\n",
       "  'n_estimators': 1000,\n",
       "  'roc_auc': 0.5539974914889805,\n",
       "  'score_auc': 0.7799787185270399,\n",
       "  'scores': array([-0.6472464 , -0.64708138, -0.63860644, ..., -0.38276872,\n",
       "         -0.38241664, -0.38209979]),\n",
       "  'scores_n': array([0.00000000e+00, 6.22361727e-04, 3.25855748e-02, ...,\n",
       "         9.97477151e-01, 9.98805004e-01, 1.00000000e+00])},\n",
       " {'max_features': 0.3,\n",
       "  'max_samples': 0.2,\n",
       "  'n_estimators': 1000,\n",
       "  'roc_auc': 0.5522021143164307,\n",
       "  'score_auc': 0.788779827336836,\n",
       "  'scores': array([-0.64897414, -0.64499969, -0.64267723, ..., -0.38266864,\n",
       "         -0.38049839, -0.38031076]),\n",
       "  'scores_n': array([0.        , 0.01479339, 0.02343791, ..., 0.99122367, 0.99930161,\n",
       "         1.        ])},\n",
       " {'max_features': 0.5,\n",
       "  'max_samples': 0.2,\n",
       "  'n_estimators': 1000,\n",
       "  'roc_auc': 0.5510652212865078,\n",
       "  'score_auc': 0.7775722170785244,\n",
       "  'scores': array([-0.64273606, -0.64022446, -0.63460865, ..., -0.38236264,\n",
       "         -0.38133397, -0.37992726]),\n",
       "  'scores_n': array([0.        , 0.00955677, 0.03092516, ..., 0.99073326, 0.99464738,\n",
       "         1.        ])},\n",
       " {'max_features': 0.01,\n",
       "  'max_samples': 0.5,\n",
       "  'n_estimators': 1000,\n",
       "  'roc_auc': 0.7118518186704892,\n",
       "  'score_auc': 0.7308138643807043,\n",
       "  'scores': array([-0.57503533, -0.57120558, -0.56856961, ..., -0.42819038,\n",
       "         -0.42802849, -0.42771518]),\n",
       "  'scores_n': array([0.        , 0.02599608, 0.04388889, ..., 0.99677443, 0.99787332,\n",
       "         1.        ])},\n",
       " {'max_features': 0.05,\n",
       "  'max_samples': 0.5,\n",
       "  'n_estimators': 1000,\n",
       "  'roc_auc': 0.6266878695574271,\n",
       "  'score_auc': 0.8002544477637454,\n",
       "  'scores': array([-0.65196459, -0.6486029 , -0.63419813, ..., -0.38480683,\n",
       "         -0.38204354, -0.38051857]),\n",
       "  'scores_n': array([0.        , 0.01238438, 0.06545115, ..., 0.98420218, 0.99438207,\n",
       "         1.        ])},\n",
       " {'max_features': 0.1,\n",
       "  'max_samples': 0.5,\n",
       "  'n_estimators': 1000,\n",
       "  'roc_auc': 0.6100815266081346,\n",
       "  'score_auc': 0.8024403163326789,\n",
       "  'scores': array([-0.65122785, -0.64989184, -0.63864702, ..., -0.38240531,\n",
       "         -0.37998461, -0.37993661]),\n",
       "  'scores_n': array([0.        , 0.00492463, 0.04637387, ..., 0.99090019, 0.99982309,\n",
       "         1.        ])},\n",
       " {'max_features': 0.2,\n",
       "  'max_samples': 0.5,\n",
       "  'n_estimators': 1000,\n",
       "  'roc_auc': 0.5771429851281132,\n",
       "  'score_auc': 0.8074449078944315,\n",
       "  'scores': array([-0.6545969 , -0.65451195, -0.64362506, ..., -0.38102653,\n",
       "         -0.38065214, -0.38024019]),\n",
       "  'scores_n': array([0.00000000e+00, 3.09621752e-04, 3.99911443e-02, ...,\n",
       "         9.97133874e-01, 9.98498466e-01, 1.00000000e+00])},\n",
       " {'max_features': 0.3,\n",
       "  'max_samples': 0.5,\n",
       "  'n_estimators': 1000,\n",
       "  'roc_auc': 0.586754165920086,\n",
       "  'score_auc': 0.8029443727620166,\n",
       "  'scores': array([-0.65260649, -0.65057961, -0.64441238, ..., -0.38078824,\n",
       "         -0.37929185, -0.37853038]),\n",
       "  'scores_n': array([0.        , 0.00739534, 0.02989722, ..., 0.99176192, 0.99722168,\n",
       "         1.        ])},\n",
       " {'max_features': 0.5,\n",
       "  'max_samples': 0.5,\n",
       "  'n_estimators': 1000,\n",
       "  'roc_auc': 0.5655590395986383,\n",
       "  'score_auc': 0.8066072856417521,\n",
       "  'scores': array([-0.6547545 , -0.65408646, -0.63841956, ..., -0.37944501,\n",
       "         -0.37907143, -0.37829638]),\n",
       "  'scores_n': array([0.        , 0.00241639, 0.05908647, ..., 0.99584519, 0.99719651,\n",
       "         1.        ])},\n",
       " {'max_features': 0.01,\n",
       "  'max_samples': 0.7,\n",
       "  'n_estimators': 1000,\n",
       "  'roc_auc': 0.6981929761691454,\n",
       "  'score_auc': 0.7127888781117727,\n",
       "  'scores': array([-0.56955559, -0.56533957, -0.56232227, ..., -0.42785629,\n",
       "         -0.42756412, -0.42749716]),\n",
       "  'scores_n': array([0.        , 0.02967812, 0.05091797, ..., 0.99747198, 0.99952865,\n",
       "         1.        ])},\n",
       " {'max_features': 0.05,\n",
       "  'max_samples': 0.7,\n",
       "  'n_estimators': 1000,\n",
       "  'roc_auc': 0.6269208027235262,\n",
       "  'score_auc': 0.8167284300868092,\n",
       "  'scores': array([-0.65175186, -0.64666672, -0.63236574, ..., -0.38862103,\n",
       "         -0.38611182, -0.38549563]),\n",
       "  'scores_n': array([0.        , 0.01909867, 0.07281003, ..., 0.98826166, 0.99768572,\n",
       "         1.        ])},\n",
       " {'max_features': 0.1,\n",
       "  'max_samples': 0.7,\n",
       "  'n_estimators': 1000,\n",
       "  'roc_auc': 0.5996031177208385,\n",
       "  'score_auc': 0.8212303701872987,\n",
       "  'scores': array([-0.65717914, -0.65456858, -0.63479821, ..., -0.38493452,\n",
       "         -0.38416497, -0.38389707]),\n",
       "  'scores_n': array([0.        , 0.00955262, 0.08189679, ..., 0.99620375, 0.99901969,\n",
       "         1.        ])},\n",
       " {'max_features': 0.2,\n",
       "  'max_samples': 0.7,\n",
       "  'n_estimators': 1000,\n",
       "  'roc_auc': 0.5818733201935138,\n",
       "  'score_auc': 0.8143212058378618,\n",
       "  'scores': array([-0.6539351 , -0.64659099, -0.63336758, ..., -0.38461864,\n",
       "         -0.38352991, -0.38221744]),\n",
       "  'scores_n': array([0.        , 0.02702845, 0.07569445, ..., 0.99116287, 0.99516972,\n",
       "         1.        ])},\n",
       " {'max_features': 0.3,\n",
       "  'max_samples': 0.7,\n",
       "  'n_estimators': 1000,\n",
       "  'roc_auc': 0.5722988711700412,\n",
       "  'score_auc': 0.8155341614865752,\n",
       "  'scores': array([-0.65951563, -0.65598236, -0.63375939, ..., -0.38073124,\n",
       "         -0.38027216, -0.37995432]),\n",
       "  'scores_n': array([0.        , 0.01263861, 0.09213091, ..., 0.9972209 , 0.99886306,\n",
       "         1.        ])},\n",
       " {'max_features': 0.5,\n",
       "  'max_samples': 0.7,\n",
       "  'n_estimators': 1000,\n",
       "  'roc_auc': 0.5838568356925282,\n",
       "  'score_auc': 0.8119355559333816,\n",
       "  'scores': array([-0.65737202, -0.65576304, -0.64374359, ..., -0.38171858,\n",
       "         -0.38131313, -0.3803767 ]),\n",
       "  'scores_n': array([0.        , 0.00580867, 0.04920092, ..., 0.99515559, 0.99661934,\n",
       "         1.        ])},\n",
       " {'max_features': 0.01,\n",
       "  'max_samples': 0.9,\n",
       "  'n_estimators': 1000,\n",
       "  'roc_auc': 0.7071107328435765,\n",
       "  'score_auc': 0.715245012582795,\n",
       "  'scores': array([-0.56626523, -0.56263321, -0.56227884, ..., -0.42934151,\n",
       "         -0.4293154 , -0.42924911]),\n",
       "  'scores_n': array([0.        , 0.02650797, 0.02909431, ..., 0.99932564, 0.99951622,\n",
       "         1.        ])},\n",
       " {'max_features': 0.05,\n",
       "  'max_samples': 0.9,\n",
       "  'n_estimators': 1000,\n",
       "  'roc_auc': 0.6261906468374844,\n",
       "  'score_auc': 0.8200973780610902,\n",
       "  'scores': array([-0.66259425, -0.65711859, -0.63729848, ..., -0.38272554,\n",
       "         -0.38080743, -0.38034705]),\n",
       "  'scores_n': array([0.        , 0.01940022, 0.08962273, ..., 0.99157303, 0.9983689 ,\n",
       "         1.        ])},\n",
       " {'max_features': 0.1,\n",
       "  'max_samples': 0.9,\n",
       "  'n_estimators': 1000,\n",
       "  'roc_auc': 0.611872424296721,\n",
       "  'score_auc': 0.8124549534595802,\n",
       "  'scores': array([-0.66250695, -0.65161376, -0.63896011, ..., -0.3802141 ,\n",
       "         -0.37732428, -0.37694907]),\n",
       "  'scores_n': array([0.        , 0.03814704, 0.08245908, ..., 0.98856613, 0.99868608,\n",
       "         1.        ])},\n",
       " {'max_features': 0.2,\n",
       "  'max_samples': 0.9,\n",
       "  'n_estimators': 1000,\n",
       "  'roc_auc': 0.5900080630711343,\n",
       "  'score_auc': 0.81646709336158,\n",
       "  'scores': array([-0.66241989, -0.66190071, -0.63959684, ..., -0.37715025,\n",
       "         -0.37653985, -0.37602116]),\n",
       "  'scores_n': array([0.        , 0.00181281, 0.0796898 , ..., 0.99605765, 0.99818892,\n",
       "         1.        ])},\n",
       " {'max_features': 0.3,\n",
       "  'max_samples': 0.9,\n",
       "  'n_estimators': 1000,\n",
       "  'roc_auc': 0.5927871349220568,\n",
       "  'score_auc': 0.8143957828022044,\n",
       "  'scores': array([-0.66578385, -0.66079574, -0.63679219, ..., -0.3732285 ,\n",
       "         -0.37266435, -0.3723423 ]),\n",
       "  'scores_n': array([0.        , 0.01699865, 0.09879878, ..., 0.99698   , 0.99890252,\n",
       "         1.        ])},\n",
       " {'max_features': 0.5,\n",
       "  'max_samples': 0.9,\n",
       "  'n_estimators': 1000,\n",
       "  'roc_auc': 0.591976348324673,\n",
       "  'score_auc': 0.8102633041901391,\n",
       "  'scores': array([-0.6548052 , -0.65041068, -0.63849626, ..., -0.37606098,\n",
       "         -0.37540126, -0.37507987]),\n",
       "  'scores_n': array([0.        , 0.01571011, 0.05830339, ..., 0.99649261, 0.99885107,\n",
       "         1.        ])},\n",
       " {'max_features': 0.01,\n",
       "  'max_samples': 1.0,\n",
       "  'n_estimators': 1000,\n",
       "  'roc_auc': 0.700591291883175,\n",
       "  'score_auc': 0.7130377327212197,\n",
       "  'scores': array([-0.57043114, -0.5693154 , -0.56433006, ..., -0.43032226,\n",
       "         -0.42993915, -0.42972921]),\n",
       "  'scores_n': array([0.        , 0.00792982, 0.04336174, ..., 0.99578504, 0.99850793,\n",
       "         1.        ])},\n",
       " {'max_features': 0.05,\n",
       "  'max_samples': 1.0,\n",
       "  'n_estimators': 1000,\n",
       "  'roc_auc': 0.6536095681777458,\n",
       "  'score_auc': 0.8207571133833139,\n",
       "  'scores': array([-0.65846286, -0.6536289 , -0.63899885, ..., -0.38541646,\n",
       "         -0.38230642, -0.38182621]),\n",
       "  'scores_n': array([0.        , 0.01747403, 0.07035947, ..., 0.98702181, 0.99826412,\n",
       "         1.        ])},\n",
       " {'max_features': 0.1,\n",
       "  'max_samples': 1.0,\n",
       "  'n_estimators': 1000,\n",
       "  'roc_auc': 0.6140118258376636,\n",
       "  'score_auc': 0.81693369434143,\n",
       "  'scores': array([-0.65919771, -0.65802342, -0.63715129, ..., -0.37796361,\n",
       "         -0.37759699, -0.37756793]),\n",
       "  'scores_n': array([0.        , 0.00416964, 0.07828158, ..., 0.99859503, 0.99989683,\n",
       "         1.        ])},\n",
       " {'max_features': 0.2,\n",
       "  'max_samples': 1.0,\n",
       "  'n_estimators': 1000,\n",
       "  'roc_auc': 0.6040118258376634,\n",
       "  'score_auc': 0.8120826511603845,\n",
       "  'scores': array([-0.65712527, -0.65379744, -0.64121245, ..., -0.37698617,\n",
       "         -0.37625223, -0.37598337]),\n",
       "  'scores_n': array([0.        , 0.01183684, 0.05660067, ..., 0.99643313, 0.99904369,\n",
       "         1.        ])},\n",
       " {'max_features': 0.3,\n",
       "  'max_samples': 1.0,\n",
       "  'n_estimators': 1000,\n",
       "  'roc_auc': 0.5936758645404049,\n",
       "  'score_auc': 0.8192088986117011,\n",
       "  'scores': array([-0.663484  , -0.65836722, -0.632523  , ..., -0.37762045,\n",
       "         -0.37758282, -0.37661772]),\n",
       "  'scores_n': array([0.        , 0.01783684, 0.10792836, ..., 0.99650455, 0.99663574,\n",
       "         1.        ])},\n",
       " {'max_features': 0.5,\n",
       "  'max_samples': 1.0,\n",
       "  'n_estimators': 1000,\n",
       "  'roc_auc': 0.5909998208206415,\n",
       "  'score_auc': 0.8132981279407978,\n",
       "  'scores': array([-0.66136335, -0.65825777, -0.64203708, ..., -0.37569211,\n",
       "         -0.37506326, -0.37467659]),\n",
       "  'scores_n': array([0.        , 0.01083267, 0.06741251, ..., 0.99645774, 0.99865125,\n",
       "         1.        ])}]"
      ]
     },
     "execution_count": 113,
     "metadata": {},
     "output_type": "execute_result"
    }
   ],
   "source": [
    "res"
   ]
  },
  {
   "cell_type": "code",
   "execution_count": null,
   "metadata": {
    "collapsed": true
   },
   "outputs": [],
   "source": []
  }
 ],
 "metadata": {
  "kernelspec": {
   "display_name": "Python 3",
   "language": "python",
   "name": "python3"
  },
  "language_info": {
   "codemirror_mode": {
    "name": "ipython",
    "version": 3
   },
   "file_extension": ".py",
   "mimetype": "text/x-python",
   "name": "python",
   "nbconvert_exporter": "python",
   "pygments_lexer": "ipython3",
   "version": "3.6.0"
  }
 },
 "nbformat": 4,
 "nbformat_minor": 2
}
