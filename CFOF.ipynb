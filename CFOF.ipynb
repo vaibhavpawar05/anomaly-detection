{
 "cells": [
  {
   "cell_type": "code",
   "execution_count": 1,
   "metadata": {
    "collapsed": true
   },
   "outputs": [],
   "source": [
    "import warnings\n",
    "\n",
    "warnings.simplefilter(action='ignore', category=FutureWarning)\n",
    "\n",
    "import numpy as np\n",
    "import pandas as pd\n",
    "\n",
    "import pathlib\n",
    "\n",
    "from sklearn.model_selection import ParameterGrid\n",
    "from sklearn.metrics import auc, roc_auc_score\n",
    "from sklearn.utils import check_random_state\n",
    "from joblib import Parallel, delayed\n",
    "\n",
    "from sklearn.ensemble import IsolationForest\n",
    "\n",
    "base_dir = pathlib.Path('/Users/vaibhav/MiscProjects/anomaly-detection')"
   ]
  },
  {
   "cell_type": "code",
   "execution_count": 2,
   "metadata": {
    "collapsed": true
   },
   "outputs": [],
   "source": [
    "import matplotlib\n",
    "import matplotlib.pyplot as plt\n",
    "%matplotlib inline"
   ]
  },
  {
   "cell_type": "code",
   "execution_count": 6,
   "metadata": {
    "collapsed": true
   },
   "outputs": [],
   "source": [
    "from scipy.spatial.distance import pdist, squareform"
   ]
  },
  {
   "cell_type": "code",
   "execution_count": 3,
   "metadata": {
    "collapsed": true
   },
   "outputs": [],
   "source": [
    "df = pd.read_csv(base_dir/'datasets/musk.csv')\n",
    "\n",
    "df_n = df.loc[df['class'] == 0]\n",
    "df_o = df.loc[df['class'] == 1]\n",
    "\n",
    "df_o_vals = df_o.values\n",
    "\n",
    "# sample outliers\n",
    "np.random.shuffle(df_o_vals)\n",
    "\n",
    "df_o_subset = pd.DataFrame(df_o_vals[0:200, :], columns=list(df_o.columns))\n",
    "\n",
    "df2 = pd.concat([df_n, df_o_subset], axis=0)\n",
    "\n",
    "#np.unique(df['class'], return_counts=True)\n",
    "#(array([0, 1]), array([5581, 1017]))\n",
    "\n",
    "cols = ['f' + str(i) for i in range(1, 167)]\n",
    "\n",
    "x = np.array(df2[cols].values, dtype='float')\n",
    "y = np.array(df2['class'].values, dtype='int')\n",
    "      \n",
    "# standardize x\n",
    "avg = np.mean(x, axis=0)\n",
    "std = np.std(x, axis=0)\n",
    "\n",
    "x = (x - avg)/std\n",
    "    \n",
    "n_samples, n_features = x.shape"
   ]
  },
  {
   "cell_type": "code",
   "execution_count": 4,
   "metadata": {
    "collapsed": false
   },
   "outputs": [
    {
     "data": {
      "text/plain": [
       "(5781, 166)"
      ]
     },
     "execution_count": 4,
     "metadata": {},
     "output_type": "execute_result"
    }
   ],
   "source": [
    "x.shape"
   ]
  },
  {
   "cell_type": "code",
   "execution_count": 17,
   "metadata": {
    "collapsed": true
   },
   "outputs": [],
   "source": [
    "# calculate pairwise dist\n",
    "# for each point, get neighbor idx"
   ]
  },
  {
   "cell_type": "code",
   "execution_count": 7,
   "metadata": {
    "collapsed": true
   },
   "outputs": [],
   "source": [
    "dists = pdist(x, metric='euclidean')"
   ]
  },
  {
   "cell_type": "code",
   "execution_count": 8,
   "metadata": {
    "collapsed": true
   },
   "outputs": [],
   "source": [
    "dists2 = squareform(dists)"
   ]
  },
  {
   "cell_type": "code",
   "execution_count": 12,
   "metadata": {
    "collapsed": true
   },
   "outputs": [],
   "source": [
    "allnbrs = np.zeros(dists2.shape, dtype='int')"
   ]
  },
  {
   "cell_type": "code",
   "execution_count": 13,
   "metadata": {
    "collapsed": true
   },
   "outputs": [],
   "source": [
    "for i in range(0, n_samples):\n",
    "    allnbrs[i, :] = np.argsort(dists2[i, :])"
   ]
  },
  {
   "cell_type": "code",
   "execution_count": 63,
   "metadata": {
    "collapsed": true
   },
   "outputs": [],
   "source": [
    "nbrs_s = np.zeros(dists2.shape, dtype='int')"
   ]
  },
  {
   "cell_type": "code",
   "execution_count": 64,
   "metadata": {
    "collapsed": true
   },
   "outputs": [],
   "source": [
    "for k in range(0, n_samples):\n",
    "    idx, ct = np.unique(allnbrs[:, k], return_counts=True)\n",
    "    nbrs_s[idx, k] = ct"
   ]
  },
  {
   "cell_type": "code",
   "execution_count": 92,
   "metadata": {
    "collapsed": false
   },
   "outputs": [
    {
     "name": "stdout",
     "output_type": "stream",
     "text": [
      "0.5150739114853968\n"
     ]
    }
   ],
   "source": [
    "rho = 0.25\n",
    "nrho = n_samples*rho\n",
    "\n",
    "cfof = np.zeros((n_samples,), dtype='int')\n",
    "\n",
    "for i in range(0, n_samples):\n",
    "    nn = 0\n",
    "    for k in range(0, n_samples):\n",
    "        nn += nbrs_s[i, k]\n",
    "        if nn >= nrho:\n",
    "            cfof[i] = k\n",
    "            break\n",
    "\n",
    "print(roc_auc_score(y_true=y, y_score=-cfof))"
   ]
  },
  {
   "cell_type": "code",
   "execution_count": 73,
   "metadata": {
    "collapsed": false
   },
   "outputs": [
    {
     "name": "stdout",
     "output_type": "stream",
     "text": [
      "0.7994216986203189\n"
     ]
    }
   ],
   "source": [
    "print(roc_auc_score(y_true=y, y_score=-cfof))"
   ]
  },
  {
   "cell_type": "code",
   "execution_count": 86,
   "metadata": {
    "collapsed": false
   },
   "outputs": [
    {
     "name": "stdout",
     "output_type": "stream",
     "text": [
      "0.7001276652929582\n"
     ]
    }
   ],
   "source": [
    "print(roc_auc_score(y_true=y, y_score=-cfof))"
   ]
  },
  {
   "cell_type": "code",
   "execution_count": null,
   "metadata": {
    "collapsed": true
   },
   "outputs": [],
   "source": []
  }
 ],
 "metadata": {
  "kernelspec": {
   "display_name": "Python 3",
   "language": "python",
   "name": "python3"
  },
  "language_info": {
   "codemirror_mode": {
    "name": "ipython",
    "version": 3
   },
   "file_extension": ".py",
   "mimetype": "text/x-python",
   "name": "python",
   "nbconvert_exporter": "python",
   "pygments_lexer": "ipython3",
   "version": "3.6.0"
  }
 },
 "nbformat": 4,
 "nbformat_minor": 2
}
